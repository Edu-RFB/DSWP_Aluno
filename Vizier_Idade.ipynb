{
  "nbformat": 4,
  "nbformat_minor": 0,
  "metadata": {
    "colab": {
      "name": "Vizier_Idade.ipynb",
      "provenance": [],
      "authorship_tag": "ABX9TyPDWpNAwOB211u86seawqOD",
      "include_colab_link": true
    },
    "kernelspec": {
      "name": "python3",
      "display_name": "Python 3"
    }
  },
  "cells": [
    {
      "cell_type": "markdown",
      "metadata": {
        "id": "view-in-github",
        "colab_type": "text"
      },
      "source": [
        "<a href=\"https://colab.research.google.com/github/Edu-RFB/DSWP_Aluno/blob/main/Vizier_Idade.ipynb\" target=\"_parent\"><img src=\"https://colab.research.google.com/assets/colab-badge.svg\" alt=\"Open In Colab\"/></a>"
      ]
    },
    {
      "cell_type": "code",
      "metadata": {
        "id": "D1p4gd0L_Gv3"
      },
      "source": [
        "import pandas as pd"
      ],
      "execution_count": 1,
      "outputs": []
    },
    {
      "cell_type": "code",
      "metadata": {
        "id": "-cazarGH_TMt"
      },
      "source": [
        "url = 'https://raw.githubusercontent.com/danmorales/CursoDS_ProfDanilo/master/Astronomia/VizieR/VizieR.tsv'"
      ],
      "execution_count": null,
      "outputs": []
    }
  ]
}