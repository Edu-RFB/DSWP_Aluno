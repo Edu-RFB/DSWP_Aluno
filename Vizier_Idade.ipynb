{
  "nbformat": 4,
  "nbformat_minor": 0,
  "metadata": {
    "colab": {
      "name": "Vizier_Idade.ipynb",
      "provenance": [],
      "authorship_tag": "ABX9TyNMGACggVZfBlU684qITMaV",
      "include_colab_link": true
    },
    "kernelspec": {
      "name": "python3",
      "display_name": "Python 3"
    }
  },
  "cells": [
    {
      "cell_type": "markdown",
      "metadata": {
        "id": "view-in-github",
        "colab_type": "text"
      },
      "source": [
        "<a href=\"https://colab.research.google.com/github/Edu-RFB/DSWP_Aluno/blob/Dataframes/Vizier_Idade.ipynb\" target=\"_parent\"><img src=\"https://colab.research.google.com/assets/colab-badge.svg\" alt=\"Open In Colab\"/></a>"
      ]
    },
    {
      "cell_type": "code",
      "metadata": {
        "id": "D1p4gd0L_Gv3"
      },
      "source": [
        "import pandas as pd"
      ],
      "execution_count": 47,
      "outputs": []
    },
    {
      "cell_type": "code",
      "metadata": {
        "id": "-cazarGH_TMt"
      },
      "source": [
        "url = 'https://raw.githubusercontent.com/danmorales/CursoDS_ProfDanilo/master/Astronomia/VizieR/VizieR.tsv'"
      ],
      "execution_count": 16,
      "outputs": []
    },
    {
      "cell_type": "code",
      "metadata": {
        "id": "Vgrz0xSt_1be"
      },
      "source": [
        "df_idade = pd.read_csv(url, sep = ';')"
      ],
      "execution_count": 17,
      "outputs": []
    },
    {
      "cell_type": "code",
      "metadata": {
        "id": "dv0PQRpUACIq",
        "outputId": "f7eb64bb-ebdd-40f7-e4ef-3c97f08c86e8",
        "colab": {
          "base_uri": "https://localhost:8080/",
          "height": 662
        }
      },
      "source": [
        "df_idade.head(20)"
      ],
      "execution_count": 18,
      "outputs": [
        {
          "output_type": "execute_result",
          "data": {
            "text/html": [
              "<div>\n",
              "<style scoped>\n",
              "    .dataframe tbody tr th:only-of-type {\n",
              "        vertical-align: middle;\n",
              "    }\n",
              "\n",
              "    .dataframe tbody tr th {\n",
              "        vertical-align: top;\n",
              "    }\n",
              "\n",
              "    .dataframe thead th {\n",
              "        text-align: right;\n",
              "    }\n",
              "</style>\n",
              "<table border=\"1\" class=\"dataframe\">\n",
              "  <thead>\n",
              "    <tr style=\"text-align: right;\">\n",
              "      <th></th>\n",
              "      <th>B-V</th>\n",
              "      <th>Vmag</th>\n",
              "      <th>log.Teff</th>\n",
              "      <th>logL</th>\n",
              "      <th>Age</th>\n",
              "      <th>Mass</th>\n",
              "    </tr>\n",
              "  </thead>\n",
              "  <tbody>\n",
              "    <tr>\n",
              "      <th>0</th>\n",
              "      <td>0.45</td>\n",
              "      <td>7.32</td>\n",
              "      <td>3.808</td>\n",
              "      <td>3.42</td>\n",
              "      <td>2.48e+07</td>\n",
              "      <td>7.67</td>\n",
              "    </tr>\n",
              "    <tr>\n",
              "      <th>1</th>\n",
              "      <td>0.45</td>\n",
              "      <td>7.32</td>\n",
              "      <td>3.808</td>\n",
              "      <td>3.42</td>\n",
              "      <td>3.82e+07</td>\n",
              "      <td>6.75</td>\n",
              "    </tr>\n",
              "    <tr>\n",
              "      <th>2</th>\n",
              "      <td>0.45</td>\n",
              "      <td>7.32</td>\n",
              "      <td>3.808</td>\n",
              "      <td>3.42</td>\n",
              "      <td>4.59e+07</td>\n",
              "      <td>6.47</td>\n",
              "    </tr>\n",
              "    <tr>\n",
              "      <th>3</th>\n",
              "      <td>0.71</td>\n",
              "      <td>7.38</td>\n",
              "      <td>3.767</td>\n",
              "      <td>3.39</td>\n",
              "      <td>2.47e+07</td>\n",
              "      <td>7.69</td>\n",
              "    </tr>\n",
              "    <tr>\n",
              "      <th>4</th>\n",
              "      <td>0.71</td>\n",
              "      <td>7.38</td>\n",
              "      <td>3.767</td>\n",
              "      <td>3.39</td>\n",
              "      <td>3.76e+07</td>\n",
              "      <td>6.77</td>\n",
              "    </tr>\n",
              "    <tr>\n",
              "      <th>5</th>\n",
              "      <td>0.71</td>\n",
              "      <td>7.38</td>\n",
              "      <td>3.767</td>\n",
              "      <td>3.39</td>\n",
              "      <td>4.66e+07</td>\n",
              "      <td>6.44</td>\n",
              "    </tr>\n",
              "    <tr>\n",
              "      <th>6</th>\n",
              "      <td>-0.14</td>\n",
              "      <td>9.23</td>\n",
              "      <td>4.150</td>\n",
              "      <td>3.02</td>\n",
              "      <td>5.42e+07</td>\n",
              "      <td>5.19</td>\n",
              "    </tr>\n",
              "    <tr>\n",
              "      <th>7</th>\n",
              "      <td>-0.15</td>\n",
              "      <td>9.64</td>\n",
              "      <td>4.167</td>\n",
              "      <td>2.90</td>\n",
              "      <td>4.64e+07</td>\n",
              "      <td>5.14</td>\n",
              "    </tr>\n",
              "    <tr>\n",
              "      <th>8</th>\n",
              "      <td>-0.15</td>\n",
              "      <td>9.64</td>\n",
              "      <td>4.167</td>\n",
              "      <td>2.90</td>\n",
              "      <td>5.89e+07</td>\n",
              "      <td>4.92</td>\n",
              "    </tr>\n",
              "    <tr>\n",
              "      <th>9</th>\n",
              "      <td>-0.15</td>\n",
              "      <td>9.64</td>\n",
              "      <td>4.167</td>\n",
              "      <td>2.90</td>\n",
              "      <td>6.21e+07</td>\n",
              "      <td>4.85</td>\n",
              "    </tr>\n",
              "    <tr>\n",
              "      <th>10</th>\n",
              "      <td>-0.15</td>\n",
              "      <td>10.18</td>\n",
              "      <td>4.167</td>\n",
              "      <td>2.69</td>\n",
              "      <td>4.25e+07</td>\n",
              "      <td>4.62</td>\n",
              "    </tr>\n",
              "    <tr>\n",
              "      <th>11</th>\n",
              "      <td>-0.16</td>\n",
              "      <td>10.21</td>\n",
              "      <td>4.183</td>\n",
              "      <td>2.71</td>\n",
              "      <td>3.32e+07</td>\n",
              "      <td>4.76</td>\n",
              "    </tr>\n",
              "    <tr>\n",
              "      <th>12</th>\n",
              "      <td>-0.13</td>\n",
              "      <td>10.31</td>\n",
              "      <td>4.133</td>\n",
              "      <td>2.55</td>\n",
              "      <td>5.96e+07</td>\n",
              "      <td>4.24</td>\n",
              "    </tr>\n",
              "    <tr>\n",
              "      <th>13</th>\n",
              "      <td>-0.21</td>\n",
              "      <td>10.39</td>\n",
              "      <td>4.250</td>\n",
              "      <td>2.80</td>\n",
              "      <td>-6.29e+06</td>\n",
              "      <td>5.44</td>\n",
              "    </tr>\n",
              "    <tr>\n",
              "      <th>14</th>\n",
              "      <td>-0.13</td>\n",
              "      <td>10.52</td>\n",
              "      <td>4.133</td>\n",
              "      <td>2.47</td>\n",
              "      <td>5.51e+07</td>\n",
              "      <td>4.07</td>\n",
              "    </tr>\n",
              "    <tr>\n",
              "      <th>15</th>\n",
              "      <td>-0.15</td>\n",
              "      <td>10.58</td>\n",
              "      <td>4.167</td>\n",
              "      <td>2.53</td>\n",
              "      <td>2.96e+07</td>\n",
              "      <td>4.31</td>\n",
              "    </tr>\n",
              "    <tr>\n",
              "      <th>16</th>\n",
              "      <td>-0.14</td>\n",
              "      <td>10.63</td>\n",
              "      <td>4.150</td>\n",
              "      <td>2.46</td>\n",
              "      <td>3.84e+07</td>\n",
              "      <td>4.12</td>\n",
              "    </tr>\n",
              "    <tr>\n",
              "      <th>17</th>\n",
              "      <td>-0.13</td>\n",
              "      <td>10.77</td>\n",
              "      <td>4.133</td>\n",
              "      <td>2.37</td>\n",
              "      <td>4.49e+07</td>\n",
              "      <td>3.89</td>\n",
              "    </tr>\n",
              "    <tr>\n",
              "      <th>18</th>\n",
              "      <td>-0.12</td>\n",
              "      <td>10.79</td>\n",
              "      <td>4.117</td>\n",
              "      <td>2.33</td>\n",
              "      <td>5.91e+07</td>\n",
              "      <td>3.76</td>\n",
              "    </tr>\n",
              "    <tr>\n",
              "      <th>19</th>\n",
              "      <td>-0.13</td>\n",
              "      <td>10.82</td>\n",
              "      <td>4.133</td>\n",
              "      <td>2.35</td>\n",
              "      <td>4.22e+07</td>\n",
              "      <td>3.86</td>\n",
              "    </tr>\n",
              "  </tbody>\n",
              "</table>\n",
              "</div>"
            ],
            "text/plain": [
              "     B-V   Vmag  log.Teff  logL        Age  Mass\n",
              "0   0.45   7.32     3.808  3.42   2.48e+07  7.67\n",
              "1   0.45   7.32     3.808  3.42   3.82e+07  6.75\n",
              "2   0.45   7.32     3.808  3.42   4.59e+07  6.47\n",
              "3   0.71   7.38     3.767  3.39   2.47e+07  7.69\n",
              "4   0.71   7.38     3.767  3.39   3.76e+07  6.77\n",
              "5   0.71   7.38     3.767  3.39   4.66e+07  6.44\n",
              "6  -0.14   9.23     4.150  3.02   5.42e+07  5.19\n",
              "7  -0.15   9.64     4.167  2.90   4.64e+07  5.14\n",
              "8  -0.15   9.64     4.167  2.90   5.89e+07  4.92\n",
              "9  -0.15   9.64     4.167  2.90   6.21e+07  4.85\n",
              "10 -0.15  10.18     4.167  2.69   4.25e+07  4.62\n",
              "11 -0.16  10.21     4.183  2.71   3.32e+07  4.76\n",
              "12 -0.13  10.31     4.133  2.55   5.96e+07  4.24\n",
              "13 -0.21  10.39     4.250  2.80  -6.29e+06  5.44\n",
              "14 -0.13  10.52     4.133  2.47   5.51e+07  4.07\n",
              "15 -0.15  10.58     4.167  2.53   2.96e+07  4.31\n",
              "16 -0.14  10.63     4.150  2.46   3.84e+07  4.12\n",
              "17 -0.13  10.77     4.133  2.37   4.49e+07  3.89\n",
              "18 -0.12  10.79     4.117  2.33   5.91e+07  3.76\n",
              "19 -0.13  10.82     4.133  2.35   4.22e+07  3.86"
            ]
          },
          "metadata": {
            "tags": []
          },
          "execution_count": 18
        }
      ]
    },
    {
      "cell_type": "code",
      "metadata": {
        "id": "bPBzCyVDAF2S",
        "outputId": "deb5fcc2-e9e2-4b03-91b1-73afcc3c46e4",
        "colab": {
          "base_uri": "https://localhost:8080/"
        }
      },
      "source": [
        "df_idade.shape"
      ],
      "execution_count": 19,
      "outputs": [
        {
          "output_type": "execute_result",
          "data": {
            "text/plain": [
              "(9879, 6)"
            ]
          },
          "metadata": {
            "tags": []
          },
          "execution_count": 19
        }
      ]
    },
    {
      "cell_type": "code",
      "metadata": {
        "id": "lICWa7yQCKvy",
        "outputId": "91e80e25-1697-4fc2-e1de-399d698ebd50",
        "colab": {
          "base_uri": "https://localhost:8080/"
        }
      },
      "source": [
        "df_idade.isna().sum()"
      ],
      "execution_count": 20,
      "outputs": [
        {
          "output_type": "execute_result",
          "data": {
            "text/plain": [
              "B-V           0\n",
              "Vmag          0\n",
              "log.Teff      0\n",
              "logL          0\n",
              "Age           0\n",
              "Mass        209\n",
              "dtype: int64"
            ]
          },
          "metadata": {
            "tags": []
          },
          "execution_count": 20
        }
      ]
    },
    {
      "cell_type": "code",
      "metadata": {
        "id": "m24CzKj8CXFc",
        "outputId": "e57340ef-98fa-40dd-9178-bd94dde340a0",
        "colab": {
          "base_uri": "https://localhost:8080/"
        }
      },
      "source": [
        "df_idade.dtypes"
      ],
      "execution_count": 21,
      "outputs": [
        {
          "output_type": "execute_result",
          "data": {
            "text/plain": [
              "B-V         float64\n",
              "Vmag        float64\n",
              "log.Teff    float64\n",
              "logL        float64\n",
              "Age          object\n",
              "Mass        float64\n",
              "dtype: object"
            ]
          },
          "metadata": {
            "tags": []
          },
          "execution_count": 21
        }
      ]
    },
    {
      "cell_type": "code",
      "metadata": {
        "id": "Hq2oNHcyCzYc",
        "outputId": "8cfeeb0b-4a88-4ec1-f212-6bc91c65a6ac",
        "colab": {
          "base_uri": "https://localhost:8080/"
        }
      },
      "source": [
        "df_idade.info()"
      ],
      "execution_count": 22,
      "outputs": [
        {
          "output_type": "stream",
          "text": [
            "<class 'pandas.core.frame.DataFrame'>\n",
            "RangeIndex: 9879 entries, 0 to 9878\n",
            "Data columns (total 6 columns):\n",
            " #   Column    Non-Null Count  Dtype  \n",
            "---  ------    --------------  -----  \n",
            " 0   B-V       9879 non-null   float64\n",
            " 1   Vmag      9879 non-null   float64\n",
            " 2   log.Teff  9879 non-null   float64\n",
            " 3   logL      9879 non-null   float64\n",
            " 4   Age       9879 non-null   object \n",
            " 5   Mass      9670 non-null   float64\n",
            "dtypes: float64(5), object(1)\n",
            "memory usage: 463.2+ KB\n"
          ],
          "name": "stdout"
        }
      ]
    },
    {
      "cell_type": "code",
      "metadata": {
        "id": "M_JT_SIHDOy0",
        "outputId": "3399d6b8-424f-4090-d851-4c07ceec1098",
        "colab": {
          "base_uri": "https://localhost:8080/",
          "height": 294
        }
      },
      "source": [
        "df_idade.describe()"
      ],
      "execution_count": 23,
      "outputs": [
        {
          "output_type": "execute_result",
          "data": {
            "text/html": [
              "<div>\n",
              "<style scoped>\n",
              "    .dataframe tbody tr th:only-of-type {\n",
              "        vertical-align: middle;\n",
              "    }\n",
              "\n",
              "    .dataframe tbody tr th {\n",
              "        vertical-align: top;\n",
              "    }\n",
              "\n",
              "    .dataframe thead th {\n",
              "        text-align: right;\n",
              "    }\n",
              "</style>\n",
              "<table border=\"1\" class=\"dataframe\">\n",
              "  <thead>\n",
              "    <tr style=\"text-align: right;\">\n",
              "      <th></th>\n",
              "      <th>B-V</th>\n",
              "      <th>Vmag</th>\n",
              "      <th>log.Teff</th>\n",
              "      <th>logL</th>\n",
              "      <th>Mass</th>\n",
              "    </tr>\n",
              "  </thead>\n",
              "  <tbody>\n",
              "    <tr>\n",
              "      <th>count</th>\n",
              "      <td>9879.000000</td>\n",
              "      <td>9879.000000</td>\n",
              "      <td>9879.000000</td>\n",
              "      <td>9879.000000</td>\n",
              "      <td>9670.000000</td>\n",
              "    </tr>\n",
              "    <tr>\n",
              "      <th>mean</th>\n",
              "      <td>0.585544</td>\n",
              "      <td>12.367917</td>\n",
              "      <td>3.869443</td>\n",
              "      <td>1.150596</td>\n",
              "      <td>2.283868</td>\n",
              "    </tr>\n",
              "    <tr>\n",
              "      <th>std</th>\n",
              "      <td>0.433909</td>\n",
              "      <td>3.324446</td>\n",
              "      <td>0.171192</td>\n",
              "      <td>0.988800</td>\n",
              "      <td>2.636491</td>\n",
              "    </tr>\n",
              "    <tr>\n",
              "      <th>min</th>\n",
              "      <td>-0.390000</td>\n",
              "      <td>-8.650000</td>\n",
              "      <td>2.465000</td>\n",
              "      <td>-4.460000</td>\n",
              "      <td>0.040000</td>\n",
              "    </tr>\n",
              "    <tr>\n",
              "      <th>25%</th>\n",
              "      <td>0.310000</td>\n",
              "      <td>11.020000</td>\n",
              "      <td>3.777000</td>\n",
              "      <td>0.540000</td>\n",
              "      <td>1.280000</td>\n",
              "    </tr>\n",
              "    <tr>\n",
              "      <th>50%</th>\n",
              "      <td>0.580000</td>\n",
              "      <td>13.040000</td>\n",
              "      <td>3.834000</td>\n",
              "      <td>0.970000</td>\n",
              "      <td>1.650000</td>\n",
              "    </tr>\n",
              "    <tr>\n",
              "      <th>75%</th>\n",
              "      <td>0.810000</td>\n",
              "      <td>14.570000</td>\n",
              "      <td>3.945000</td>\n",
              "      <td>1.670000</td>\n",
              "      <td>2.520000</td>\n",
              "    </tr>\n",
              "    <tr>\n",
              "      <th>max</th>\n",
              "      <td>2.780000</td>\n",
              "      <td>19.110000</td>\n",
              "      <td>5.950000</td>\n",
              "      <td>8.960000</td>\n",
              "      <td>100.650000</td>\n",
              "    </tr>\n",
              "  </tbody>\n",
              "</table>\n",
              "</div>"
            ],
            "text/plain": [
              "               B-V         Vmag     log.Teff         logL         Mass\n",
              "count  9879.000000  9879.000000  9879.000000  9879.000000  9670.000000\n",
              "mean      0.585544    12.367917     3.869443     1.150596     2.283868\n",
              "std       0.433909     3.324446     0.171192     0.988800     2.636491\n",
              "min      -0.390000    -8.650000     2.465000    -4.460000     0.040000\n",
              "25%       0.310000    11.020000     3.777000     0.540000     1.280000\n",
              "50%       0.580000    13.040000     3.834000     0.970000     1.650000\n",
              "75%       0.810000    14.570000     3.945000     1.670000     2.520000\n",
              "max       2.780000    19.110000     5.950000     8.960000   100.650000"
            ]
          },
          "metadata": {
            "tags": []
          },
          "execution_count": 23
        }
      ]
    },
    {
      "cell_type": "code",
      "metadata": {
        "id": "7zQqDEm1DWXa"
      },
      "source": [
        "import matplotlib.pyplot as plt\n",
        "%matplotlib inline"
      ],
      "execution_count": 24,
      "outputs": []
    },
    {
      "cell_type": "code",
      "metadata": {
        "id": "dAqGCtUYDl1k",
        "outputId": "59420347-b605-4c9e-d04a-19686571a7ae",
        "colab": {
          "base_uri": "https://localhost:8080/",
          "height": 265
        }
      },
      "source": [
        "plt.boxplot(df_idade['B-V']);"
      ],
      "execution_count": 25,
      "outputs": [
        {
          "output_type": "display_data",
          "data": {
            "image/png": "[encoded data removed]",
            "text/plain": [
              "<Figure size 432x288 with 1 Axes>"
            ]
          },
          "metadata": {
            "tags": [],
            "needs_background": "light"
          }
        }
      ]
    },
    {
      "cell_type": "code",
      "metadata": {
        "id": "gay3uVpFEjEl",
        "outputId": "6932a182-5402-4a4e-8385-80a49bf7bc0a",
        "colab": {
          "base_uri": "https://localhost:8080/",
          "height": 263
        }
      },
      "source": [
        "df_idade.loc[14:20, ['logL','Age']]"
      ],
      "execution_count": 26,
      "outputs": [
        {
          "output_type": "execute_result",
          "data": {
            "text/html": [
              "<div>\n",
              "<style scoped>\n",
              "    .dataframe tbody tr th:only-of-type {\n",
              "        vertical-align: middle;\n",
              "    }\n",
              "\n",
              "    .dataframe tbody tr th {\n",
              "        vertical-align: top;\n",
              "    }\n",
              "\n",
              "    .dataframe thead th {\n",
              "        text-align: right;\n",
              "    }\n",
              "</style>\n",
              "<table border=\"1\" class=\"dataframe\">\n",
              "  <thead>\n",
              "    <tr style=\"text-align: right;\">\n",
              "      <th></th>\n",
              "      <th>logL</th>\n",
              "      <th>Age</th>\n",
              "    </tr>\n",
              "  </thead>\n",
              "  <tbody>\n",
              "    <tr>\n",
              "      <th>14</th>\n",
              "      <td>2.47</td>\n",
              "      <td>5.51e+07</td>\n",
              "    </tr>\n",
              "    <tr>\n",
              "      <th>15</th>\n",
              "      <td>2.53</td>\n",
              "      <td>2.96e+07</td>\n",
              "    </tr>\n",
              "    <tr>\n",
              "      <th>16</th>\n",
              "      <td>2.46</td>\n",
              "      <td>3.84e+07</td>\n",
              "    </tr>\n",
              "    <tr>\n",
              "      <th>17</th>\n",
              "      <td>2.37</td>\n",
              "      <td>4.49e+07</td>\n",
              "    </tr>\n",
              "    <tr>\n",
              "      <th>18</th>\n",
              "      <td>2.33</td>\n",
              "      <td>5.91e+07</td>\n",
              "    </tr>\n",
              "    <tr>\n",
              "      <th>19</th>\n",
              "      <td>2.35</td>\n",
              "      <td>4.22e+07</td>\n",
              "    </tr>\n",
              "    <tr>\n",
              "      <th>20</th>\n",
              "      <td>2.43</td>\n",
              "      <td>1.25e+07</td>\n",
              "    </tr>\n",
              "  </tbody>\n",
              "</table>\n",
              "</div>"
            ],
            "text/plain": [
              "    logL        Age\n",
              "14  2.47   5.51e+07\n",
              "15  2.53   2.96e+07\n",
              "16  2.46   3.84e+07\n",
              "17  2.37   4.49e+07\n",
              "18  2.33   5.91e+07\n",
              "19  2.35   4.22e+07\n",
              "20  2.43   1.25e+07"
            ]
          },
          "metadata": {
            "tags": []
          },
          "execution_count": 26
        }
      ]
    },
    {
      "cell_type": "code",
      "metadata": {
        "id": "2qQ7uDPzL-3t",
        "outputId": "31322b15-6b68-4b6d-eba2-b1329bf1d50d",
        "colab": {
          "base_uri": "https://localhost:8080/"
        }
      },
      "source": [
        "df_idade.columns"
      ],
      "execution_count": 27,
      "outputs": [
        {
          "output_type": "execute_result",
          "data": {
            "text/plain": [
              "Index(['B-V', 'Vmag', 'log.Teff', 'logL', 'Age', 'Mass'], dtype='object')"
            ]
          },
          "metadata": {
            "tags": []
          },
          "execution_count": 27
        }
      ]
    },
    {
      "cell_type": "code",
      "metadata": {
        "id": "_ECP4xTUKwS3",
        "outputId": "2d16d665-ba0a-46aa-e0f6-a4976907d99d",
        "colab": {
          "base_uri": "https://localhost:8080/",
          "height": 483
        }
      },
      "source": [
        "df_idade['log.Teff'].plot(figsize = (12,8));"
      ],
      "execution_count": 28,
      "outputs": [
        {
          "output_type": "display_data",
          "data": {
            "image/png": "[encoded data removed]",
            "text/plain": [
              "<Figure size 864x576 with 1 Axes>"
            ]
          },
          "metadata": {
            "tags": [],
            "needs_background": "light"
          }
        }
      ]
    },
    {
      "cell_type": "code",
      "metadata": {
        "id": "QncHunAohNS_"
      },
      "source": [
        "from google.colab import drive"
      ],
      "execution_count": 50,
      "outputs": []
    },
    {
      "cell_type": "code",
      "metadata": {
        "id": "7WRUnsq9hTXN",
        "outputId": "70e1ade1-4f57-476f-aee1-c537dbb533e7",
        "colab": {
          "base_uri": "https://localhost:8080/"
        }
      },
      "source": [
        "drive.mount('/content/gdrive')"
      ],
      "execution_count": 51,
      "outputs": [
        {
          "output_type": "stream",
          "text": [
            "Drive already mounted at /content/gdrive; to attempt to forcibly remount, call drive.mount(\"/content/gdrive\", force_remount=True).\n"
          ],
          "name": "stdout"
        }
      ]
    },
    {
      "cell_type": "code",
      "metadata": {
        "id": "vVsNNBhEh77n"
      },
      "source": [
        "url = '/content/gdrive/My Drive/test.csv'"
      ],
      "execution_count": 55,
      "outputs": []
    },
    {
      "cell_type": "code",
      "metadata": {
        "id": "1wKB0KuFjt3A"
      },
      "source": [
        "df_teste = pd.read_csv(url)"
      ],
      "execution_count": 56,
      "outputs": []
    },
    {
      "cell_type": "code",
      "metadata": {
        "id": "q5-JIkNur6_x",
        "outputId": "7b5222b1-d181-4f83-c368-f6b695c68763",
        "colab": {
          "base_uri": "https://localhost:8080/",
          "height": 291
        }
      },
      "source": [
        "df_teste.head()"
      ],
      "execution_count": 57,
      "outputs": [
        {
          "output_type": "execute_result",
          "data": {
            "text/html": [
              "<div>\n",
              "<style scoped>\n",
              "    .dataframe tbody tr th:only-of-type {\n",
              "        vertical-align: middle;\n",
              "    }\n",
              "\n",
              "    .dataframe tbody tr th {\n",
              "        vertical-align: top;\n",
              "    }\n",
              "\n",
              "    .dataframe thead th {\n",
              "        text-align: right;\n",
              "    }\n",
              "</style>\n",
              "<table border=\"1\" class=\"dataframe\">\n",
              "  <thead>\n",
              "    <tr style=\"text-align: right;\">\n",
              "      <th></th>\n",
              "      <th>id</th>\n",
              "      <th>gender</th>\n",
              "      <th>SeniorCitizen</th>\n",
              "      <th>Partner</th>\n",
              "      <th>Dependents</th>\n",
              "      <th>tenure</th>\n",
              "      <th>PhoneService</th>\n",
              "      <th>MultipleLines</th>\n",
              "      <th>InternetService</th>\n",
              "      <th>OnlineSecurity</th>\n",
              "      <th>OnlineBackup</th>\n",
              "      <th>DeviceProtection</th>\n",
              "      <th>TechSupport</th>\n",
              "      <th>StreamingTV</th>\n",
              "      <th>StreamingMovies</th>\n",
              "      <th>Contract</th>\n",
              "      <th>PaperlessBilling</th>\n",
              "      <th>PaymentMethod</th>\n",
              "      <th>MonthlyCharges</th>\n",
              "      <th>TotalCharges</th>\n",
              "    </tr>\n",
              "  </thead>\n",
              "  <tbody>\n",
              "    <tr>\n",
              "      <th>0</th>\n",
              "      <td>5027</td>\n",
              "      <td>Male</td>\n",
              "      <td>0</td>\n",
              "      <td>Yes</td>\n",
              "      <td>Yes</td>\n",
              "      <td>23.0</td>\n",
              "      <td>Yes</td>\n",
              "      <td>No</td>\n",
              "      <td>No</td>\n",
              "      <td>No internet service</td>\n",
              "      <td>No internet service</td>\n",
              "      <td>No internet service</td>\n",
              "      <td>No internet service</td>\n",
              "      <td>No internet service</td>\n",
              "      <td>No internet service</td>\n",
              "      <td>One year</td>\n",
              "      <td>Yes</td>\n",
              "      <td>Credit card (automatic)</td>\n",
              "      <td>20.00</td>\n",
              "      <td>445.3</td>\n",
              "    </tr>\n",
              "    <tr>\n",
              "      <th>1</th>\n",
              "      <td>1733</td>\n",
              "      <td>Male</td>\n",
              "      <td>1</td>\n",
              "      <td>Yes</td>\n",
              "      <td>Yes</td>\n",
              "      <td>61.0</td>\n",
              "      <td>Yes</td>\n",
              "      <td>Yes</td>\n",
              "      <td>Fiber optic</td>\n",
              "      <td>No</td>\n",
              "      <td>Yes</td>\n",
              "      <td>No</td>\n",
              "      <td>No</td>\n",
              "      <td>Yes</td>\n",
              "      <td>Yes</td>\n",
              "      <td>One year</td>\n",
              "      <td>No</td>\n",
              "      <td>NaN</td>\n",
              "      <td>99.00</td>\n",
              "      <td>5969.3</td>\n",
              "    </tr>\n",
              "    <tr>\n",
              "      <th>2</th>\n",
              "      <td>5384</td>\n",
              "      <td>Male</td>\n",
              "      <td>0</td>\n",
              "      <td>No</td>\n",
              "      <td>No</td>\n",
              "      <td>36.0</td>\n",
              "      <td>Yes</td>\n",
              "      <td>Yes</td>\n",
              "      <td>Fiber optic</td>\n",
              "      <td>No</td>\n",
              "      <td>No</td>\n",
              "      <td>No</td>\n",
              "      <td>No</td>\n",
              "      <td>No</td>\n",
              "      <td>Yes</td>\n",
              "      <td>Month-to-month</td>\n",
              "      <td>Yes</td>\n",
              "      <td>Electronic check</td>\n",
              "      <td>84.75</td>\n",
              "      <td>3050.15</td>\n",
              "    </tr>\n",
              "    <tr>\n",
              "      <th>3</th>\n",
              "      <td>6554</td>\n",
              "      <td>Female</td>\n",
              "      <td>0</td>\n",
              "      <td>Yes</td>\n",
              "      <td>Yes</td>\n",
              "      <td>61.0</td>\n",
              "      <td>No</td>\n",
              "      <td>No phone service</td>\n",
              "      <td>DSL</td>\n",
              "      <td>No</td>\n",
              "      <td>Yes</td>\n",
              "      <td>Yes</td>\n",
              "      <td>Yes</td>\n",
              "      <td>Yes</td>\n",
              "      <td>Yes</td>\n",
              "      <td>Two year</td>\n",
              "      <td>Yes</td>\n",
              "      <td>Bank transfer (automatic)</td>\n",
              "      <td>61.45</td>\n",
              "      <td>3751.15</td>\n",
              "    </tr>\n",
              "    <tr>\n",
              "      <th>4</th>\n",
              "      <td>364</td>\n",
              "      <td>Female</td>\n",
              "      <td>0</td>\n",
              "      <td>No</td>\n",
              "      <td>No</td>\n",
              "      <td>47.0</td>\n",
              "      <td>Yes</td>\n",
              "      <td>No</td>\n",
              "      <td>No</td>\n",
              "      <td>No internet service</td>\n",
              "      <td>No internet service</td>\n",
              "      <td>No internet service</td>\n",
              "      <td>No internet service</td>\n",
              "      <td>No internet service</td>\n",
              "      <td>No internet service</td>\n",
              "      <td>Two year</td>\n",
              "      <td>Yes</td>\n",
              "      <td>Mailed check</td>\n",
              "      <td>20.55</td>\n",
              "      <td>945.7</td>\n",
              "    </tr>\n",
              "  </tbody>\n",
              "</table>\n",
              "</div>"
            ],
            "text/plain": [
              "     id  gender  ...  MonthlyCharges TotalCharges\n",
              "0  5027    Male  ...           20.00        445.3\n",
              "1  1733    Male  ...           99.00       5969.3\n",
              "2  5384    Male  ...           84.75      3050.15\n",
              "3  6554  Female  ...           61.45      3751.15\n",
              "4   364  Female  ...           20.55        945.7\n",
              "\n",
              "[5 rows x 20 columns]"
            ]
          },
          "metadata": {
            "tags": []
          },
          "execution_count": 57
        }
      ]
    },
    {
      "cell_type": "code",
      "metadata": {
        "id": "CWb1kMlqsT4w",
        "outputId": "431d46f3-db36-4e1a-b65b-ab85dd764fe5",
        "colab": {
          "base_uri": "https://localhost:8080/"
        }
      },
      "source": [
        "df_teste.isna().sum() "
      ],
      "execution_count": 81,
      "outputs": [
        {
          "output_type": "execute_result",
          "data": {
            "text/plain": [
              "id                    0\n",
              "gender                0\n",
              "seniorcitizen         0\n",
              "partner               0\n",
              "dependents           41\n",
              "tenure              118\n",
              "phoneservice          0\n",
              "multiplelines         0\n",
              "internetservice       0\n",
              "onlinesecurity        0\n",
              "onlinebackup          0\n",
              "deviceprotection      0\n",
              "techsupport           0\n",
              "streamingtv           0\n",
              "streamingmovies       0\n",
              "contract              0\n",
              "paperlessbilling      0\n",
              "paymentmethod        30\n",
              "monthlycharges        0\n",
              "totalcharges          0\n",
              "dtype: int64"
            ]
          },
          "metadata": {
            "tags": []
          },
          "execution_count": 81
        }
      ]
    },
    {
      "cell_type": "code",
      "metadata": {
        "id": "I5AaYazLtW2s"
      },
      "source": [
        "df_teste.columns = [col.lower() for col in df_teste.columns]"
      ],
      "execution_count": 65,
      "outputs": []
    },
    {
      "cell_type": "code",
      "metadata": {
        "id": "ROca_shutlnb",
        "outputId": "410d742a-4bcf-47a2-f9e2-13df1e593663",
        "colab": {
          "base_uri": "https://localhost:8080/"
        }
      },
      "source": [
        "df_teste.info()"
      ],
      "execution_count": 66,
      "outputs": [
        {
          "output_type": "stream",
          "text": [
            "<class 'pandas.core.frame.DataFrame'>\n",
            "RangeIndex: 1409 entries, 0 to 1408\n",
            "Data columns (total 20 columns):\n",
            " #   Column            Non-Null Count  Dtype  \n",
            "---  ------            --------------  -----  \n",
            " 0   id                1409 non-null   int64  \n",
            " 1   gender            1409 non-null   object \n",
            " 2   seniorcitizen     1409 non-null   int64  \n",
            " 3   partner           1409 non-null   object \n",
            " 4   dependents        1368 non-null   object \n",
            " 5   tenure            1291 non-null   float64\n",
            " 6   phoneservice      1409 non-null   object \n",
            " 7   multiplelines     1409 non-null   object \n",
            " 8   internetservice   1409 non-null   object \n",
            " 9   onlinesecurity    1409 non-null   object \n",
            " 10  onlinebackup      1409 non-null   object \n",
            " 11  deviceprotection  1409 non-null   object \n",
            " 12  techsupport       1409 non-null   object \n",
            " 13  streamingtv       1409 non-null   object \n",
            " 14  streamingmovies   1409 non-null   object \n",
            " 15  contract          1409 non-null   object \n",
            " 16  paperlessbilling  1409 non-null   object \n",
            " 17  paymentmethod     1379 non-null   object \n",
            " 18  monthlycharges    1409 non-null   float64\n",
            " 19  totalcharges      1409 non-null   object \n",
            "dtypes: float64(2), int64(2), object(16)\n",
            "memory usage: 220.3+ KB\n"
          ],
          "name": "stdout"
        }
      ]
    },
    {
      "cell_type": "code",
      "metadata": {
        "id": "GIq1942ntvVb",
        "outputId": "397a46ed-f4af-47ab-a287-9587dd4b692c",
        "colab": {
          "base_uri": "https://localhost:8080/"
        }
      },
      "source": [
        "df_teste['dependents'].value_counts()"
      ],
      "execution_count": 67,
      "outputs": [
        {
          "output_type": "execute_result",
          "data": {
            "text/plain": [
              "No     953\n",
              "Yes    415\n",
              "Name: dependents, dtype: int64"
            ]
          },
          "metadata": {
            "tags": []
          },
          "execution_count": 67
        }
      ]
    },
    {
      "cell_type": "code",
      "metadata": {
        "id": "TGVQ5i1-xq8M",
        "outputId": "f3e2fbaa-47ad-4729-8e13-72bbd49fa0b7",
        "colab": {
          "base_uri": "https://localhost:8080/"
        }
      },
      "source": [
        "df_teste['dependents'].count()"
      ],
      "execution_count": 75,
      "outputs": [
        {
          "output_type": "execute_result",
          "data": {
            "text/plain": [
              "1368"
            ]
          },
          "metadata": {
            "tags": []
          },
          "execution_count": 75
        }
      ]
    },
    {
      "cell_type": "code",
      "metadata": {
        "id": "kqGI6H2Cx1Uq",
        "outputId": "98a6e73f-22cd-47d7-c832-35001de82d70",
        "colab": {
          "base_uri": "https://localhost:8080/"
        }
      },
      "source": [
        "round(df_teste['dependents'].value_counts()*100/df_teste['dependents'].count(), 2)"
      ],
      "execution_count": 77,
      "outputs": [
        {
          "output_type": "execute_result",
          "data": {
            "text/plain": [
              "No     69.66\n",
              "Yes    30.34\n",
              "Name: dependents, dtype: float64"
            ]
          },
          "metadata": {
            "tags": []
          },
          "execution_count": 77
        }
      ]
    },
    {
      "cell_type": "code",
      "metadata": {
        "id": "BGnGwcE1uJkh",
        "outputId": "7969cfbc-b91a-4ce7-b2dc-0fe9094992f2",
        "colab": {
          "base_uri": "https://localhost:8080/",
          "height": 294
        }
      },
      "source": [
        "df_teste.describe()"
      ],
      "execution_count": 68,
      "outputs": [
        {
          "output_type": "execute_result",
          "data": {
            "text/html": [
              "<div>\n",
              "<style scoped>\n",
              "    .dataframe tbody tr th:only-of-type {\n",
              "        vertical-align: middle;\n",
              "    }\n",
              "\n",
              "    .dataframe tbody tr th {\n",
              "        vertical-align: top;\n",
              "    }\n",
              "\n",
              "    .dataframe thead th {\n",
              "        text-align: right;\n",
              "    }\n",
              "</style>\n",
              "<table border=\"1\" class=\"dataframe\">\n",
              "  <thead>\n",
              "    <tr style=\"text-align: right;\">\n",
              "      <th></th>\n",
              "      <th>id</th>\n",
              "      <th>seniorcitizen</th>\n",
              "      <th>tenure</th>\n",
              "      <th>monthlycharges</th>\n",
              "    </tr>\n",
              "  </thead>\n",
              "  <tbody>\n",
              "    <tr>\n",
              "      <th>count</th>\n",
              "      <td>1409.000000</td>\n",
              "      <td>1409.000000</td>\n",
              "      <td>1291.000000</td>\n",
              "      <td>1409.000000</td>\n",
              "    </tr>\n",
              "    <tr>\n",
              "      <th>mean</th>\n",
              "      <td>3488.757984</td>\n",
              "      <td>0.176011</td>\n",
              "      <td>32.460883</td>\n",
              "      <td>65.302520</td>\n",
              "    </tr>\n",
              "    <tr>\n",
              "      <th>std</th>\n",
              "      <td>2021.976356</td>\n",
              "      <td>0.380965</td>\n",
              "      <td>24.843710</td>\n",
              "      <td>30.366091</td>\n",
              "    </tr>\n",
              "    <tr>\n",
              "      <th>min</th>\n",
              "      <td>7.000000</td>\n",
              "      <td>0.000000</td>\n",
              "      <td>0.000000</td>\n",
              "      <td>18.700000</td>\n",
              "    </tr>\n",
              "    <tr>\n",
              "      <th>25%</th>\n",
              "      <td>1726.000000</td>\n",
              "      <td>0.000000</td>\n",
              "      <td>9.000000</td>\n",
              "      <td>35.750000</td>\n",
              "    </tr>\n",
              "    <tr>\n",
              "      <th>50%</th>\n",
              "      <td>3510.000000</td>\n",
              "      <td>0.000000</td>\n",
              "      <td>29.000000</td>\n",
              "      <td>71.000000</td>\n",
              "    </tr>\n",
              "    <tr>\n",
              "      <th>75%</th>\n",
              "      <td>5222.000000</td>\n",
              "      <td>0.000000</td>\n",
              "      <td>57.000000</td>\n",
              "      <td>90.100000</td>\n",
              "    </tr>\n",
              "    <tr>\n",
              "      <th>max</th>\n",
              "      <td>7041.000000</td>\n",
              "      <td>1.000000</td>\n",
              "      <td>72.000000</td>\n",
              "      <td>118.650000</td>\n",
              "    </tr>\n",
              "  </tbody>\n",
              "</table>\n",
              "</div>"
            ],
            "text/plain": [
              "                id  seniorcitizen       tenure  monthlycharges\n",
              "count  1409.000000    1409.000000  1291.000000     1409.000000\n",
              "mean   3488.757984       0.176011    32.460883       65.302520\n",
              "std    2021.976356       0.380965    24.843710       30.366091\n",
              "min       7.000000       0.000000     0.000000       18.700000\n",
              "25%    1726.000000       0.000000     9.000000       35.750000\n",
              "50%    3510.000000       0.000000    29.000000       71.000000\n",
              "75%    5222.000000       0.000000    57.000000       90.100000\n",
              "max    7041.000000       1.000000    72.000000      118.650000"
            ]
          },
          "metadata": {
            "tags": []
          },
          "execution_count": 68
        }
      ]
    },
    {
      "cell_type": "code",
      "metadata": {
        "id": "7K0K8fFPvWzK",
        "outputId": "1eb4c317-ec5c-469b-8f26-79e2d645d3db",
        "colab": {
          "base_uri": "https://localhost:8080/"
        }
      },
      "source": [
        "round(df_teste['paymentmethod'].value_counts()*100/df_teste['paymentmethod'].count(),2)"
      ],
      "execution_count": 79,
      "outputs": [
        {
          "output_type": "execute_result",
          "data": {
            "text/plain": [
              "Electronic check             31.18\n",
              "Credit card (automatic)      23.86\n",
              "Mailed check                 22.70\n",
              "Bank transfer (automatic)    22.26\n",
              "Name: paymentmethod, dtype: float64"
            ]
          },
          "metadata": {
            "tags": []
          },
          "execution_count": 79
        }
      ]
    }
  ]
}