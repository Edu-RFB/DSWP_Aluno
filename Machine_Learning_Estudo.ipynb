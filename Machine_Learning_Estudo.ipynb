{
  "nbformat": 4,
  "nbformat_minor": 0,
  "metadata": {
    "colab": {
      "name": "Machine_Learning_Estudo.ipynb",
      "provenance": [],
      "authorship_tag": "ABX9TyOs7rj6Z0fthzZln+zUSwlD",
      "include_colab_link": true
    },
    "kernelspec": {
      "name": "python3",
      "display_name": "Python 3"
    }
  },
  "cells": [
    {
      "cell_type": "markdown",
      "metadata": {
        "id": "view-in-github",
        "colab_type": "text"
      },
      "source": [
        "<a href=\"https://colab.research.google.com/github/Edu-RFB/DSWP_Aluno/blob/main/Machine_Learning_Estudo.ipynb\" target=\"_parent\"><img src=\"https://colab.research.google.com/assets/colab-badge.svg\" alt=\"Open In Colab\"/></a>"
      ]
    },
    {
      "cell_type": "code",
      "metadata": {
        "id": "Pqkf5fzjXDmB"
      },
      "source": [
        "import numpy as np\n",
        "import pandas as pd\n",
        "import seaborn as sns\n",
        "import matplotlib.pyplot as plt\n",
        "import warnings\n",
        "warnings.filterwarnings(\"ignore\")"
      ],
      "execution_count": 54,
      "outputs": []
    },
    {
      "cell_type": "markdown",
      "metadata": {
        "id": "imPZ2cnSXu-3"
      },
      "source": [
        "## **DEFINIÇÃO DE VARIÁVEIS GLOBAIS**"
      ]
    },
    {
      "cell_type": "code",
      "metadata": {
        "id": "3VHnWqJCXlbI"
      },
      "source": [
        "i_CV= 10 # Número de Cross-Validations\n",
        "i_Seed= 20111974 # semente por questões de reproducibilidade\n",
        "f_Test_Size= 0.3 # Proporção do dataframe de validação"
      ],
      "execution_count": 55,
      "outputs": []
    },
    {
      "cell_type": "code",
      "metadata": {
        "id": "UC0MumoWX7QS"
      },
      "source": [
        "from sklearn.datasets import make_classification\n",
        "X, Y = make_classification(n_samples = 1000000, # Número de amostras (default = 100)\n",
        "                           n_features = 18, # Número total de recursos (default = 20)\n",
        "                           n_informative = 9, # Número de recursos informativos (default = 2)\n",
        "                           n_redundant = 6, # Número de recursos redundantes. Esses recursos são gerados como\n",
        "                                            # combinações lineares aleatórias dos recursos informativos. (default = 2)\n",
        "                           n_repeated = 3, # O número de recursos duplicados, extraídos aleatoriamente do informativo\n",
        "                                          # e os recursos redundantes. (default = 0)\n",
        "                           n_classes = 2, # número de classes (ou rótulos) do problema de classificação. (default = 2)\n",
        "                           n_clusters_per_class = 1, # O número de clusters por classe. (default = 2)\n",
        "                           random_state=i_Seed)\n",
        "# Obs.: n_informative + n_redundant + n_repeated é igual a n_features"
      ],
      "execution_count": 56,
      "outputs": []
    },
    {
      "cell_type": "code",
      "metadata": {
        "id": "Tp4QNNEkcvnX"
      },
      "source": [
        "import numpy as np\n",
        "import pandas as pd\n",
        "import seaborn as sns\n",
        "import matplotlib.pyplot as plt\n",
        "\n",
        "import warnings\n",
        "warnings.filterwarnings(\"ignore\")"
      ],
      "execution_count": 57,
      "outputs": []
    },
    {
      "cell_type": "code",
      "metadata": {
        "id": "ep4NvHo1c39u"
      },
      "source": [
        "l_colunas= ['v1', 'v2', 'v3', 'v4', 'v5', 'v6', 'v7', 'v8', 'v9', 'v10', 'v11', 'v12', 'v13', 'v14', 'v15', 'v16', 'v17', 'v18']\n",
        "df_X = pd.DataFrame(X, columns = l_colunas)\n",
        "df_Y = pd.DataFrame(Y, columns = ['target'])"
      ],
      "execution_count": 58,
      "outputs": []
    },
    {
      "cell_type": "code",
      "metadata": {
        "id": "qoncAOq4dOkt",
        "outputId": "2631ccb6-7ccd-41cd-8b7e-a7d5bbe14e34",
        "colab": {
          "base_uri": "https://localhost:8080/",
          "height": 35
        }
      },
      "source": [
        "df_X.shape"
      ],
      "execution_count": 59,
      "outputs": [
        {
          "output_type": "execute_result",
          "data": {
            "text/plain": [
              "(1000000, 18)"
            ]
          },
          "metadata": {
            "tags": []
          },
          "execution_count": 59
        }
      ]
    },
    {
      "cell_type": "code",
      "metadata": {
        "id": "A3aI-FABkqsj",
        "outputId": "5312294d-261a-44dc-965c-165a3f96a910",
        "colab": {
          "base_uri": "https://localhost:8080/",
          "height": 35
        }
      },
      "source": [
        "df_Y.shape"
      ],
      "execution_count": 60,
      "outputs": [
        {
          "output_type": "execute_result",
          "data": {
            "text/plain": [
              "(1000000, 1)"
            ]
          },
          "metadata": {
            "tags": []
          },
          "execution_count": 60
        }
      ]
    },
    {
      "cell_type": "code",
      "metadata": {
        "id": "UC3vno4adZIB",
        "outputId": "6b864f37-e4c8-4fe8-8b8a-1f4f0ae301e5",
        "colab": {
          "base_uri": "https://localhost:8080/",
          "height": 314
        }
      },
      "source": [
        "df_X.describe()"
      ],
      "execution_count": 61,
      "outputs": [
        {
          "output_type": "execute_result",
          "data": {
            "text/html": [
              "<div>\n",
              "<style scoped>\n",
              "    .dataframe tbody tr th:only-of-type {\n",
              "        vertical-align: middle;\n",
              "    }\n",
              "\n",
              "    .dataframe tbody tr th {\n",
              "        vertical-align: top;\n",
              "    }\n",
              "\n",
              "    .dataframe thead th {\n",
              "        text-align: right;\n",
              "    }\n",
              "</style>\n",
              "<table border=\"1\" class=\"dataframe\">\n",
              "  <thead>\n",
              "    <tr style=\"text-align: right;\">\n",
              "      <th></th>\n",
              "      <th>v1</th>\n",
              "      <th>v2</th>\n",
              "      <th>v3</th>\n",
              "      <th>v4</th>\n",
              "      <th>v5</th>\n",
              "      <th>v6</th>\n",
              "      <th>v7</th>\n",
              "      <th>v8</th>\n",
              "      <th>v9</th>\n",
              "      <th>v10</th>\n",
              "      <th>v11</th>\n",
              "      <th>v12</th>\n",
              "      <th>v13</th>\n",
              "      <th>v14</th>\n",
              "      <th>v15</th>\n",
              "      <th>v16</th>\n",
              "      <th>v17</th>\n",
              "      <th>v18</th>\n",
              "    </tr>\n",
              "  </thead>\n",
              "  <tbody>\n",
              "    <tr>\n",
              "      <th>count</th>\n",
              "      <td>1000000.000000</td>\n",
              "      <td>1000000.000000</td>\n",
              "      <td>1000000.000000</td>\n",
              "      <td>1000000.000000</td>\n",
              "      <td>1000000.000000</td>\n",
              "      <td>1000000.000000</td>\n",
              "      <td>1000000.000000</td>\n",
              "      <td>1000000.000000</td>\n",
              "      <td>1000000.000000</td>\n",
              "      <td>1000000.000000</td>\n",
              "      <td>1000000.000000</td>\n",
              "      <td>1000000.000000</td>\n",
              "      <td>1000000.000000</td>\n",
              "      <td>1000000.000000</td>\n",
              "      <td>1000000.000000</td>\n",
              "      <td>1000000.000000</td>\n",
              "      <td>1000000.000000</td>\n",
              "      <td>1000000.000000</td>\n",
              "    </tr>\n",
              "    <tr>\n",
              "      <th>mean</th>\n",
              "      <td>0.000364</td>\n",
              "      <td>0.908153</td>\n",
              "      <td>0.000783</td>\n",
              "      <td>0.998820</td>\n",
              "      <td>0.998797</td>\n",
              "      <td>0.058646</td>\n",
              "      <td>0.908153</td>\n",
              "      <td>0.000989</td>\n",
              "      <td>0.997260</td>\n",
              "      <td>0.365548</td>\n",
              "      <td>-0.001726</td>\n",
              "      <td>-0.000797</td>\n",
              "      <td>0.998797</td>\n",
              "      <td>-0.689586</td>\n",
              "      <td>-2.103473</td>\n",
              "      <td>0.998820</td>\n",
              "      <td>-1.592432</td>\n",
              "      <td>0.996938</td>\n",
              "    </tr>\n",
              "    <tr>\n",
              "      <th>std</th>\n",
              "      <td>1.883183</td>\n",
              "      <td>2.105883</td>\n",
              "      <td>1.990911</td>\n",
              "      <td>1.277555</td>\n",
              "      <td>2.064946</td>\n",
              "      <td>3.238700</td>\n",
              "      <td>2.105883</td>\n",
              "      <td>2.040060</td>\n",
              "      <td>1.973741</td>\n",
              "      <td>2.409626</td>\n",
              "      <td>2.227355</td>\n",
              "      <td>2.224183</td>\n",
              "      <td>2.064946</td>\n",
              "      <td>4.233681</td>\n",
              "      <td>4.144720</td>\n",
              "      <td>1.277555</td>\n",
              "      <td>2.853225</td>\n",
              "      <td>1.518364</td>\n",
              "    </tr>\n",
              "    <tr>\n",
              "      <th>min</th>\n",
              "      <td>-8.265991</td>\n",
              "      <td>-9.466676</td>\n",
              "      <td>-9.233483</td>\n",
              "      <td>-5.318998</td>\n",
              "      <td>-9.910954</td>\n",
              "      <td>-19.571521</td>\n",
              "      <td>-9.466676</td>\n",
              "      <td>-10.080285</td>\n",
              "      <td>-8.788654</td>\n",
              "      <td>-12.510377</td>\n",
              "      <td>-10.461313</td>\n",
              "      <td>-9.359532</td>\n",
              "      <td>-9.910954</td>\n",
              "      <td>-16.227021</td>\n",
              "      <td>-21.065771</td>\n",
              "      <td>-5.318998</td>\n",
              "      <td>-16.187071</td>\n",
              "      <td>-7.594100</td>\n",
              "    </tr>\n",
              "    <tr>\n",
              "      <th>25%</th>\n",
              "      <td>-1.317314</td>\n",
              "      <td>-0.511037</td>\n",
              "      <td>-1.349903</td>\n",
              "      <td>0.149855</td>\n",
              "      <td>-0.380953</td>\n",
              "      <td>-2.182614</td>\n",
              "      <td>-0.511037</td>\n",
              "      <td>-1.432121</td>\n",
              "      <td>-0.333646</td>\n",
              "      <td>-1.110964</td>\n",
              "      <td>-1.489372</td>\n",
              "      <td>-1.540392</td>\n",
              "      <td>-0.380953</td>\n",
              "      <td>-3.778341</td>\n",
              "      <td>-4.892467</td>\n",
              "      <td>0.149855</td>\n",
              "      <td>-3.501145</td>\n",
              "      <td>-0.025680</td>\n",
              "    </tr>\n",
              "    <tr>\n",
              "      <th>50%</th>\n",
              "      <td>-0.046680</td>\n",
              "      <td>0.907848</td>\n",
              "      <td>0.038258</td>\n",
              "      <td>0.998562</td>\n",
              "      <td>0.997901</td>\n",
              "      <td>-0.389550</td>\n",
              "      <td>0.907848</td>\n",
              "      <td>-0.209871</td>\n",
              "      <td>0.996049</td>\n",
              "      <td>0.458463</td>\n",
              "      <td>0.059038</td>\n",
              "      <td>-0.067150</td>\n",
              "      <td>0.997901</td>\n",
              "      <td>-1.183487</td>\n",
              "      <td>-2.081648</td>\n",
              "      <td>0.998562</td>\n",
              "      <td>-1.578765</td>\n",
              "      <td>0.995232</td>\n",
              "    </tr>\n",
              "    <tr>\n",
              "      <th>75%</th>\n",
              "      <td>1.281656</td>\n",
              "      <td>2.328303</td>\n",
              "      <td>1.384925</td>\n",
              "      <td>1.846269</td>\n",
              "      <td>2.379972</td>\n",
              "      <td>1.930396</td>\n",
              "      <td>2.328303</td>\n",
              "      <td>1.263573</td>\n",
              "      <td>2.329680</td>\n",
              "      <td>1.940860</td>\n",
              "      <td>1.540651</td>\n",
              "      <td>1.478872</td>\n",
              "      <td>2.379972</td>\n",
              "      <td>2.124122</td>\n",
              "      <td>0.712244</td>\n",
              "      <td>1.846269</td>\n",
              "      <td>0.335422</td>\n",
              "      <td>2.020443</td>\n",
              "    </tr>\n",
              "    <tr>\n",
              "      <th>max</th>\n",
              "      <td>8.548590</td>\n",
              "      <td>11.290145</td>\n",
              "      <td>9.030293</td>\n",
              "      <td>8.152252</td>\n",
              "      <td>11.725774</td>\n",
              "      <td>17.288870</td>\n",
              "      <td>11.290145</td>\n",
              "      <td>12.059203</td>\n",
              "      <td>10.654171</td>\n",
              "      <td>12.983026</td>\n",
              "      <td>10.316555</td>\n",
              "      <td>10.494231</td>\n",
              "      <td>11.725774</td>\n",
              "      <td>20.442521</td>\n",
              "      <td>18.275846</td>\n",
              "      <td>8.152252</td>\n",
              "      <td>11.400286</td>\n",
              "      <td>8.234281</td>\n",
              "    </tr>\n",
              "  </tbody>\n",
              "</table>\n",
              "</div>"
            ],
            "text/plain": [
              "                   v1              v2  ...             v17             v18\n",
              "count  1000000.000000  1000000.000000  ...  1000000.000000  1000000.000000\n",
              "mean         0.000364        0.908153  ...       -1.592432        0.996938\n",
              "std          1.883183        2.105883  ...        2.853225        1.518364\n",
              "min         -8.265991       -9.466676  ...      -16.187071       -7.594100\n",
              "25%         -1.317314       -0.511037  ...       -3.501145       -0.025680\n",
              "50%         -0.046680        0.907848  ...       -1.578765        0.995232\n",
              "75%          1.281656        2.328303  ...        0.335422        2.020443\n",
              "max          8.548590       11.290145  ...       11.400286        8.234281\n",
              "\n",
              "[8 rows x 18 columns]"
            ]
          },
          "metadata": {
            "tags": []
          },
          "execution_count": 61
        }
      ]
    },
    {
      "cell_type": "code",
      "metadata": {
        "id": "M0HEM5bFfGvQ",
        "outputId": "ae0910eb-8caa-4145-f0d9-2f084416c5f4",
        "colab": {
          "base_uri": "https://localhost:8080/",
          "height": 87
        }
      },
      "source": [
        "df_Y.value_counts()"
      ],
      "execution_count": 62,
      "outputs": [
        {
          "output_type": "execute_result",
          "data": {
            "text/plain": [
              "target\n",
              "1         500058\n",
              "0         499942\n",
              "dtype: int64"
            ]
          },
          "metadata": {
            "tags": []
          },
          "execution_count": 62
        }
      ]
    },
    {
      "cell_type": "code",
      "metadata": {
        "id": "CR9_s3GujmRP",
        "outputId": "c1f6c573-0c41-4856-dbb0-549e5421cdd3",
        "colab": {
          "base_uri": "https://localhost:8080/",
          "height": 310
        }
      },
      "source": [
        "df_Y.value_counts().plot.bar(color = 'red', title = 'Teste');"
      ],
      "execution_count": 63,
      "outputs": [
        {
          "output_type": "display_data",
          "data": {
            "image/png": "[encoded data removed]",
            "text/plain": [
              "<Figure size 432x288 with 1 Axes>"
            ]
          },
          "metadata": {
            "tags": []
          }
        }
      ]
    },
    {
      "cell_type": "code",
      "metadata": {
        "id": "G8GDqMDdwCTQ",
        "outputId": "2c2b0d6a-dbf1-4c1e-b499-07faaf4b7124",
        "colab": {
          "base_uri": "https://localhost:8080/",
          "height": 285
        }
      },
      "source": [
        "df_X.boxplot(column = 'v2')\n",
        "# plt.show()"
      ],
      "execution_count": 67,
      "outputs": [
        {
          "output_type": "execute_result",
          "data": {
            "text/plain": [
              "<matplotlib.axes._subplots.AxesSubplot at 0x7f65c7ff8748>"
            ]
          },
          "metadata": {
            "tags": []
          },
          "execution_count": 67
        },
        {
          "output_type": "display_data",
          "data": {
            "image/png": "[encoded data removed]",
            "text/plain": [
              "<Figure size 432x288 with 1 Axes>"
            ]
          },
          "metadata": {
            "tags": []
          }
        }
      ]
    },
    {
      "cell_type": "code",
      "metadata": {
        "id": "EOzwrriKc0cu",
        "outputId": "48460eef-7081-4d66-d2ab-83314b18d3cc",
        "colab": {
          "base_uri": "https://localhost:8080/",
          "height": 268
        }
      },
      "source": [
        "sns.set(style= 'whitegrid', color_codes= True)\n",
        "sns.boxplot(data = df_X['v2']);"
      ],
      "execution_count": 30,
      "outputs": [
        {
          "output_type": "display_data",
          "data": {
            "image/png": "[encoded data removed]",
            "text/plain": [
              "<Figure size 432x288 with 1 Axes>"
            ]
          },
          "metadata": {
            "tags": []
          }
        }
      ]
    },
    {
      "cell_type": "code",
      "metadata": {
        "id": "hbaJjo1chyrZ"
      },
      "source": [
        "valor1 = df_X['v2']"
      ],
      "execution_count": 31,
      "outputs": []
    },
    {
      "cell_type": "code",
      "metadata": {
        "id": "qyz2S-Axudtb",
        "outputId": "77a20160-db63-4171-e686-d93730d39337",
        "colab": {
          "base_uri": "https://localhost:8080/",
          "height": 35
        }
      },
      "source": [
        "print(valor1.mean(), valor1.median())"
      ],
      "execution_count": 52,
      "outputs": [
        {
          "output_type": "stream",
          "text": [
            "0.9081525551543457 0.9078483056836463\n"
          ],
          "name": "stdout"
        }
      ]
    },
    {
      "cell_type": "code",
      "metadata": {
        "id": "jyh0OKIxh8ln",
        "outputId": "ad9f4d3e-134f-456e-bca5-78e545233a5e",
        "colab": {
          "base_uri": "https://localhost:8080/",
          "height": 35
        }
      },
      "source": [
        "Q1 = valor1.quantile(.25)\n",
        "Q3 = valor1.quantile(.75)\n",
        "lim_inferior = Q1 - 1.5*(Q3 - Q1)\n",
        "lim_superior = Q3 + 1.5*(Q3 - Q1)\n",
        "print(f'Q1: {Q1}, Q3: {Q3}, Limite Inferior: {lim_inferior} e Limite Superior: {lim_superior}')"
      ],
      "execution_count": 33,
      "outputs": [
        {
          "output_type": "stream",
          "text": [
            "Q1: -0.5110368611393332, Q3: 2.3283028244058865, Limite Inferior: -4.770046389457162 e Limite Superior: 6.587312352723716\n"
          ],
          "name": "stdout"
        }
      ]
    },
    {
      "cell_type": "code",
      "metadata": {
        "id": "NVSrcO9wjTk7",
        "outputId": "f103c3bf-be33-4ca2-e8e3-aba9878b40d5",
        "colab": {
          "base_uri": "https://localhost:8080/",
          "height": 225
        }
      },
      "source": [
        "valor1[valor1 >= lim_inferior]"
      ],
      "execution_count": 37,
      "outputs": [
        {
          "output_type": "execute_result",
          "data": {
            "text/plain": [
              "0         1.709998\n",
              "1         4.920089\n",
              "2        -0.297394\n",
              "3         3.247157\n",
              "4         2.907033\n",
              "            ...   \n",
              "999995    1.717762\n",
              "999996    0.774905\n",
              "999997    0.388072\n",
              "999998   -0.946133\n",
              "999999   -1.545765\n",
              "Name: v2, Length: 996472, dtype: float64"
            ]
          },
          "metadata": {
            "tags": []
          },
          "execution_count": 37
        }
      ]
    },
    {
      "cell_type": "code",
      "metadata": {
        "id": "kULojIkDllSr"
      },
      "source": [
        "def remove_outliers(values):\n",
        "  Q1, Q3 = np.percentile(values,[25,75])\n",
        "  IQR = Q3 - Q1\n",
        "  lim_inferior = Q1 - 1.5*IQR\n",
        "  lim_superior = Q3 + 1.5*IQR\n",
        "  return [v for v in values if v > lim_inferior and v < lim_superior]"
      ],
      "execution_count": 44,
      "outputs": []
    },
    {
      "cell_type": "code",
      "metadata": {
        "id": "G75mD3WWm49E"
      },
      "source": [
        "valor2 = remove_outliers(valor1)"
      ],
      "execution_count": 46,
      "outputs": []
    },
    {
      "cell_type": "code",
      "metadata": {
        "id": "VLAKyv7AnXXa",
        "outputId": "1e761481-9da1-4839-9632-d80b60c07599",
        "colab": {
          "base_uri": "https://localhost:8080/",
          "height": 35
        }
      },
      "source": [
        "print(f'Total: {len(valor1)}, Restaram: {len(valor2)}, {len(valor1) - len(valor2)} Outliers removidos.')"
      ],
      "execution_count": 50,
      "outputs": [
        {
          "output_type": "stream",
          "text": [
            "Total: 1000000, Restaram: 992955, 7045 Outliers removidos.\n"
          ],
          "name": "stdout"
        }
      ]
    }
  ]
}